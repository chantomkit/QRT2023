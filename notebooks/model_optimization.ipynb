{
 "cells": [
  {
   "cell_type": "code",
   "execution_count": 1,
   "metadata": {},
   "outputs": [],
   "source": [
    "import numpy as np\n",
    "import pandas as pd\n",
    "from scipy.stats import spearmanr, boxcox, pearsonr, ks_2samp\n",
    "import matplotlib.pyplot as plt\n",
    "\n",
    "from sklearn.linear_model import Ridge, HuberRegressor, Lasso, ElasticNet, ElasticNetCV, LogisticRegression\n",
    "\n",
    "import json\n",
    "import os\n",
    "os.chdir(\"..\")\n",
    "\n",
    "from core.Dataset import Dataset, DataUnit\n",
    "from core.MetaModel import PredictionAggregator\n",
    "from core.ModelOptimizer import (\n",
    "    lgbm_optimizer, \n",
    "    xgb_optimizer, \n",
    "    rf_optimizer, \n",
    "    svr_optimizer, \n",
    "    ridge_optimizer, \n",
    "    huber_optimizer,\n",
    "    knn_optimizer,\n",
    "    lasso_optimizer,\n",
    "    elasticnet_optimizer,\n",
    "    model_box\n",
    ")\n",
    "\n",
    "def metric_train(output, truth):\n",
    "    return spearmanr(output, truth).correlation"
   ]
  },
  {
   "cell_type": "code",
   "execution_count": 2,
   "metadata": {},
   "outputs": [],
   "source": [
    "EXOTIC_PATH = \"data/processed/exotic\"\n",
    "NON_EXOTIC_PATH = \"data/processed/non_exotic\"\n",
    "FULL_PATH = \"data/processed/full\"\n",
    "\n",
    "FEATURE_SELECTION_PATH = \"features/feature_selection_lasso.json\"\n",
    "feature_selection = json.load(open(FEATURE_SELECTION_PATH, \"r\"))"
   ]
  },
  {
   "cell_type": "code",
   "execution_count": 3,
   "metadata": {},
   "outputs": [],
   "source": [
    "de_train = pd.read_csv(f\"{NON_EXOTIC_PATH}/median_imputed_train_de.csv\").set_index(\"ID\")\n",
    "fr_train = pd.read_csv(f\"{NON_EXOTIC_PATH}/median_imputed_train_fr.csv\").set_index(\"ID\")\n",
    "exotic_train = pd.read_csv(f\"{EXOTIC_PATH}/median_imputed_train.csv\").set_index(\"ID\")\n",
    "\n",
    "de_test = pd.read_csv(f\"{NON_EXOTIC_PATH}/median_imputed_test_de.csv\").set_index(\"ID\")\n",
    "fr_test = pd.read_csv(f\"{NON_EXOTIC_PATH}/median_imputed_test_fr.csv\").set_index(\"ID\")\n",
    "exotic_test = pd.read_csv(f\"{EXOTIC_PATH}/median_imputed_test.csv\").set_index(\"ID\")\n",
    "\n",
    "full_train = pd.read_csv(f\"{FULL_PATH}/median_imputed_train.csv\").set_index(\"ID\")"
   ]
  },
  {
   "cell_type": "code",
   "execution_count": 4,
   "metadata": {},
   "outputs": [],
   "source": [
    "rank_max = full_train.RANK.max()"
   ]
  },
  {
   "cell_type": "code",
   "execution_count": 5,
   "metadata": {},
   "outputs": [],
   "source": [
    "de_dataset = Dataset(de_train, feature_selection[\"de\"], [\"RANK\"], name=\"de\", valid_ratio=0.2)\n",
    "fr_dataset = Dataset(fr_train, feature_selection[\"fr\"], [\"RANK\"], name=\"fr\", valid_ratio=0.2)\n",
    "exotic_dataset = Dataset(exotic_train, feature_selection[\"exotic\"], [\"RANK\"], name=\"exo\", valid_ratio=0.2)\n",
    "\n",
    "de_testset = Dataset(de_test, feature_selection[\"de\"], None, name=\"de_test\")\n",
    "fr_testset = Dataset(fr_test, feature_selection[\"fr\"], None, name=\"fr_test\")\n",
    "exotic_testset = Dataset(exotic_test, feature_selection[\"exotic\"], None, name=\"exo_test\")"
   ]
  },
  {
   "cell_type": "code",
   "execution_count": 6,
   "metadata": {},
   "outputs": [],
   "source": [
    "def _get_opt(model_name, opt_param_dict):\n",
    "    opt_dict = {\n",
    "        'lgbm': lgbm_optimizer(**opt_param_dict),\n",
    "        'xgb': xgb_optimizer(**opt_param_dict),\n",
    "        'rf': rf_optimizer(**opt_param_dict),\n",
    "        'svr': svr_optimizer(**opt_param_dict),\n",
    "        'ridge': ridge_optimizer(**opt_param_dict),\n",
    "        'huber': huber_optimizer(**opt_param_dict),\n",
    "        'knn': knn_optimizer(**opt_param_dict),\n",
    "        'lasso': lasso_optimizer(**opt_param_dict),\n",
    "        'elasticnet': elasticnet_optimizer(**opt_param_dict), \n",
    "    }\n",
    "    return opt_dict[model_name]\n",
    "\n",
    "def optimize_models(\n",
    "    dataset, \n",
    "    region,\n",
    "    strat='voting_models_remake', \n",
    "    models_list=['lgbm', 'xgb', 'rf', 'svr', 'ridge', 'huber', 'knn', 'lasso', 'elasticnet'], \n",
    "    cv=0, \n",
    "    dump=True\n",
    "):\n",
    "    opt_param_dict = {\n",
    "                'dataset': dataset,\n",
    "                'cv': cv\n",
    "            }\n",
    "    for model_name in models_list:\n",
    "        print(model_name)\n",
    "        opt = _get_opt(model_name=model_name, opt_param_dict=opt_param_dict)\n",
    "        opt.run()\n",
    "        if dump: opt.dump_best_model(f\"{strat}/{model_name}_{region}.json\")"
   ]
  },
  {
   "cell_type": "code",
   "execution_count": 9,
   "metadata": {},
   "outputs": [],
   "source": [
    "STRATEGY = \"models/voting_models_all_feat\"\n",
    "# STRATEGY = \"lasso_selected_features_linear_models\"\n",
    "\n",
    "# for ds in [\n",
    "#     de_dataset, \n",
    "#     fr_dataset, \n",
    "#     exotic_dataset,\n",
    "#     ]:\n",
    "#     optimize_models(\n",
    "#         ds, \n",
    "#         region=ds.name, \n",
    "#         cv=5, \n",
    "#         models_list=[\"lasso\", \"ridge\", \"huber\", \"elasticnet\"],\n",
    "#         strat=STRATEGY)"
   ]
  },
  {
   "cell_type": "code",
   "execution_count": 10,
   "metadata": {},
   "outputs": [
    {
     "data": {
      "text/plain": [
       "{'ridge': {'exo': 0.1270053475935829,\n",
       "  'fr': 0.10201482845572965,\n",
       "  'de': 0.36128022590072567},\n",
       " 'elasticnet': {'exo': 0.2032467532467533,\n",
       "  'fr': 0.15957210874999814,\n",
       "  'de': 0.3632048578051145},\n",
       " 'lasso': {'exo': 0.14613827349121467,\n",
       "  'fr': 0.11965875232994194,\n",
       "  'de': 0.36432709760454585},\n",
       " 'lgbm': {'exo': 0.16572956455309398,\n",
       "  'fr': 0.15567968185648373,\n",
       "  'de': 0.37777705526120864},\n",
       " 'rf': {'exo': 0.18019289533995417,\n",
       "  'fr': 0.1779263058388038,\n",
       "  'de': 0.3744084327552349},\n",
       " 'svr': {'exo': 0.13487585943468297,\n",
       "  'fr': 0.11185190967864349,\n",
       "  'de': 0.3245715102195982},\n",
       " 'huber': {'exo': 0.2036783804430863,\n",
       "  'fr': 0.15858261885872812,\n",
       "  'de': 0.3633788852241109},\n",
       " 'xgb': {'exo': 0.15051948051948055,\n",
       "  'fr': 0.17299595558005731,\n",
       "  'de': 0.3703558557141113},\n",
       " 'knn': {'exo': 0.13647058823529412,\n",
       "  'fr': 0.16303104383092218,\n",
       "  'de': 0.3199868381162239}}"
      ]
     },
     "execution_count": 10,
     "metadata": {},
     "output_type": "execute_result"
    }
   ],
   "source": [
    "mbox = model_box(STRATEGY)\n",
    "model_candidates, model_scores = mbox.to_dict()\n",
    "model_scores"
   ]
  },
  {
   "cell_type": "code",
   "execution_count": 11,
   "metadata": {},
   "outputs": [],
   "source": [
    "def visualise_preds(pred_ys, true_y):\n",
    "    fig, axs = plt.subplots(3, 3, figsize=(12, 12))\n",
    "    for i, col in enumerate(pred_ys.columns):\n",
    "        axs[i//3][i%3].scatter(pred_ys[col].rank(), true_y.rank(), label=col)\n",
    "        axs[i//3][i%3].set_title(col)\n",
    "    fig.tight_layout()\n",
    "    plt.show()"
   ]
  },
  {
   "cell_type": "code",
   "execution_count": 12,
   "metadata": {},
   "outputs": [
    {
     "data": {
      "text/plain": [
       "ridge         0.417302\n",
       "elasticnet    0.360856\n",
       "lasso         0.391458\n",
       "lgbm          0.349385\n",
       "rf            0.305579\n",
       "svr           0.303019\n",
       "huber         0.353561\n",
       "xgb           0.345701\n",
       "knn           0.333838\n",
       "dtype: float64"
      ]
     },
     "execution_count": 12,
     "metadata": {},
     "output_type": "execute_result"
    }
   ],
   "source": [
    "de_pa = PredictionAggregator(model_candidates, 'de')\n",
    "# de_pred = de_pa.fit_predict(de_dataset.dtrain, de_dataset.dvalid.X)\n",
    "de_pred = de_pa.fit_predict(de_dataset.dtrain, de_dataset.dvalid.X, n_bootstrap=100, bootstrap_fraction=0.7)\n",
    "de_pred.apply(lambda x: metric_train(x, de_dataset.dvalid.y))"
   ]
  },
  {
   "cell_type": "code",
   "execution_count": 13,
   "metadata": {},
   "outputs": [
    {
     "data": {
      "text/plain": [
       "ridge         0.174514\n",
       "elasticnet    0.112822\n",
       "lasso         0.179760\n",
       "lgbm          0.225411\n",
       "rf            0.137196\n",
       "svr           0.197823\n",
       "huber         0.114669\n",
       "xgb           0.142213\n",
       "knn           0.244511\n",
       "dtype: float64"
      ]
     },
     "execution_count": 13,
     "metadata": {},
     "output_type": "execute_result"
    }
   ],
   "source": [
    "fr_pa = PredictionAggregator(model_candidates, 'fr')\n",
    "# fr_pred = fr_pa.fit_predict(fr_dataset.dtrain, fr_dataset.dvalid.X)\n",
    "fr_pred = fr_pa.fit_predict(fr_dataset.dtrain, fr_dataset.dvalid.X, n_bootstrap=100, bootstrap_fraction=0.7)\n",
    "fr_pred.apply(lambda x: metric_train(x, fr_dataset.dvalid.y))"
   ]
  },
  {
   "cell_type": "code",
   "execution_count": 14,
   "metadata": {},
   "outputs": [
    {
     "data": {
      "text/plain": [
       "ridge         0.244146\n",
       "elasticnet    0.291630\n",
       "lasso         0.254680\n",
       "lgbm          0.160198\n",
       "rf            0.185155\n",
       "svr           0.314966\n",
       "huber         0.300705\n",
       "xgb           0.273155\n",
       "knn           0.156632\n",
       "dtype: float64"
      ]
     },
     "execution_count": 14,
     "metadata": {},
     "output_type": "execute_result"
    }
   ],
   "source": [
    "exotic_pa = PredictionAggregator(model_candidates, 'exo')\n",
    "# exotic_pred = exotic_pa.fit_predict(exotic_dataset.dtrain, exotic_dataset.dvalid.X)\n",
    "exotic_pred = exotic_pa.fit_predict(exotic_dataset.dtrain, exotic_dataset.dvalid.X, n_bootstrap=100, bootstrap_fraction=0.7)\n",
    "exotic_pred.apply(lambda x: metric_train(x, exotic_dataset.dvalid.y))"
   ]
  },
  {
   "cell_type": "code",
   "execution_count": 41,
   "metadata": {},
   "outputs": [],
   "source": [
    "# feature_selection_lasso = {}\n",
    "# feature_selection_lasso[\"de\"] = de_dataset.dtrain.X.columns[de_pa.fitted_models[\"lasso\"].coef_ > 0.1].to_list()\n",
    "# feature_selection_lasso[\"fr\"] = fr_dataset.dtrain.X.columns[fr_pa.fitted_models[\"lasso\"].coef_ > 0.1]\n",
    "# feature_selection_lasso[\"exotic\"] = exotic_dataset.dtrain.X.columns[exotic_pa.fitted_models[\"lasso\"].coef_ > 0.1]\n",
    "# json.dump(feature_selection, open(\"features/feature_selection_lasso.json\", \"w\"))"
   ]
  },
  {
   "cell_type": "code",
   "execution_count": 16,
   "metadata": {},
   "outputs": [],
   "source": [
    "# full_test_pred = pd.concat(\n",
    "#     [\n",
    "#         de_pa.fit_predict(de_dataset.dfull, de_testset.dfull.X),\n",
    "#         fr_pa.fit_predict(fr_dataset.dfull, fr_testset.dfull.X),\n",
    "#         exotic_pa.fit_predict(exotic_dataset.dfull, exotic_testset.dfull.X)\n",
    "#     ], axis=0)\n",
    "\n",
    "full_test_pred = pd.concat(\n",
    "    [\n",
    "        de_pa.fit_predict(de_dataset.dfull, de_testset.dfull.X, n_bootstrap=100, bootstrap_fraction=0.7),\n",
    "        fr_pa.fit_predict(fr_dataset.dfull, fr_testset.dfull.X, n_bootstrap=100, bootstrap_fraction=0.7),\n",
    "        exotic_pa.fit_predict(exotic_dataset.dfull, exotic_testset.dfull.X, n_bootstrap=100, bootstrap_fraction=0.7)\n",
    "    ], axis=0)\n",
    "\n",
    "full_test_pred.to_csv(f\"{STRATEGY}/test_pred_bootstrap.csv\")"
   ]
  },
  {
   "cell_type": "code",
   "execution_count": null,
   "metadata": {},
   "outputs": [],
   "source": []
  }
 ],
 "metadata": {
  "kernelspec": {
   "display_name": "Python 3.9.12 ('base')",
   "language": "python",
   "name": "python3"
  },
  "language_info": {
   "codemirror_mode": {
    "name": "ipython",
    "version": 3
   },
   "file_extension": ".py",
   "mimetype": "text/x-python",
   "name": "python",
   "nbconvert_exporter": "python",
   "pygments_lexer": "ipython3",
   "version": "3.9.12"
  },
  "orig_nbformat": 4,
  "vscode": {
   "interpreter": {
    "hash": "6b1b51844297d35c968758913ba1b8e9c346e0ddf0da5bc15cfd46ed8ca42702"
   }
  }
 },
 "nbformat": 4,
 "nbformat_minor": 2
}
