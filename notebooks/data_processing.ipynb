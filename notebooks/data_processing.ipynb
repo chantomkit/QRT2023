{
 "cells": [
  {
   "cell_type": "code",
   "execution_count": 1,
   "metadata": {},
   "outputs": [],
   "source": [
    "import numpy as np\n",
    "import pandas as pd\n",
    "from scipy.stats import spearmanr, boxcox, pearsonr, ks_2samp\n",
    "\n",
    "import matplotlib.pyplot as plt\n",
    "import seaborn as sns\n",
    "\n",
    "from sklearn.impute import KNNImputer\n",
    "from sklearn.linear_model import Lasso\n",
    "\n",
    "import json\n",
    "import os\n",
    "os.chdir(\"..\")\n",
    "\n",
    "def metric_train(output, truth):\n",
    "    return spearmanr(output, truth).correlation"
   ]
  },
  {
   "cell_type": "code",
   "execution_count": 2,
   "metadata": {},
   "outputs": [],
   "source": [
    "EXOTIC_PATH = \"data/processed/exotic\"\n",
    "NON_EXOTIC_PATH = \"data/processed/non_exotic\"\n",
    "FULL_PATH = \"data/processed/full\""
   ]
  },
  {
   "cell_type": "code",
   "execution_count": 3,
   "metadata": {},
   "outputs": [
    {
     "data": {
      "text/plain": [
       "((1494, 34), (1494, 1), (654, 34))"
      ]
     },
     "execution_count": 3,
     "metadata": {},
     "output_type": "execute_result"
    }
   ],
   "source": [
    "X_train = pd.read_csv(\"data/raw/X_train_NHkHMNU.csv\").set_index(\"ID\")\n",
    "y_train = pd.read_csv(\"data/raw/y_train_ZAN5mwg.csv\").set_index(\"ID\")\n",
    "X_test = pd.read_csv(\"data/raw/X_test_final.csv\").set_index(\"ID\")\n",
    "X_train.shape, y_train.shape, X_test.shape"
   ]
  },
  {
   "cell_type": "code",
   "execution_count": 4,
   "metadata": {},
   "outputs": [],
   "source": [
    "country_code = {\"FR\": 0, \"DE\": 1}\n",
    "\n",
    "full_train = y_train.join(X_train)\n",
    "full_train = full_train.replace(country_code)\n",
    "\n",
    "full_train[\"RANK\"] = full_train[\"TARGET\"].rank()\n",
    "\n",
    "X_test = X_test.replace(country_code)"
   ]
  },
  {
   "cell_type": "code",
   "execution_count": 5,
   "metadata": {},
   "outputs": [],
   "source": [
    "def split_exotic_idx(df: pd.DataFrame):\n",
    "    day_count = df.groupby(\"DAY_ID\")[\"COUNTRY\"].count()\n",
    "    exotic_day = day_count[day_count == 1].index.to_list()\n",
    "    non_exotic_day = day_count[day_count == 2].index.to_list()\n",
    "    return exotic_day, non_exotic_day"
   ]
  },
  {
   "cell_type": "code",
   "execution_count": 6,
   "metadata": {},
   "outputs": [],
   "source": [
    "exotic_train_idx, non_exotic_train_idx = split_exotic_idx(full_train)\n",
    "exotic_train_df = full_train.loc[full_train[\"DAY_ID\"].isin(exotic_train_idx)]\n",
    "non_exotic_train_df = full_train.loc[full_train[\"DAY_ID\"].isin(non_exotic_train_idx)]"
   ]
  },
  {
   "cell_type": "code",
   "execution_count": 7,
   "metadata": {},
   "outputs": [],
   "source": [
    "exotic_test, non_exotic_test = split_exotic_idx(X_test)\n",
    "exotic_test_X = X_test.loc[X_test[\"DAY_ID\"].isin(exotic_test)]\n",
    "non_exotic_test_X = X_test.loc[X_test[\"DAY_ID\"].isin(non_exotic_test)]"
   ]
  },
  {
   "cell_type": "code",
   "execution_count": 8,
   "metadata": {},
   "outputs": [
    {
     "name": "stdout",
     "output_type": "stream",
     "text": [
      "Index(['DE_FR_EXCHANGE', 'FR_DE_EXCHANGE', 'DE_NET_EXPORT', 'FR_NET_EXPORT',\n",
      "       'DE_NET_IMPORT', 'FR_NET_IMPORT'],\n",
      "      dtype='object')\n",
      "Index(['DE_RAIN', 'FR_RAIN', 'DE_WIND', 'FR_WIND', 'DE_TEMP', 'FR_TEMP'], dtype='object')\n",
      "Index(['DE_FR_EXCHANGE', 'FR_DE_EXCHANGE', 'DE_NET_EXPORT', 'FR_NET_EXPORT',\n",
      "       'DE_NET_IMPORT', 'FR_NET_IMPORT'],\n",
      "      dtype='object')\n",
      "Index(['DE_RAIN', 'FR_RAIN', 'DE_WIND', 'FR_WIND', 'DE_TEMP', 'FR_TEMP'], dtype='object')\n"
     ]
    }
   ],
   "source": [
    "print(exotic_train_df.columns[exotic_train_df.isna().any(axis=0) != 0])\n",
    "print(non_exotic_train_df.columns[non_exotic_train_df.isna().any(axis=0) != 0])\n",
    "print(exotic_test_X.columns[exotic_test_X.isna().any(axis=0) != 0])\n",
    "print(non_exotic_test_X.columns[non_exotic_test_X.isna().any(axis=0) != 0])"
   ]
  },
  {
   "cell_type": "code",
   "execution_count": 9,
   "metadata": {},
   "outputs": [],
   "source": [
    "# Median fillna\n",
    "exotic_train_df = exotic_train_df.fillna(exotic_train_df.median())\n",
    "exotic_test_X = exotic_test_X.fillna(exotic_test_X.median())\n",
    "\n",
    "def fill_median_by_country(df: pd.DataFrame, df_fit: pd.DataFrame):\n",
    "    df = df.copy()\n",
    "    median_filler = df_fit.loc[df_fit.COUNTRY == 0].median()\n",
    "    df.loc[df.COUNTRY == 0] = df.loc[df.COUNTRY == 0].fillna(median_filler)\n",
    "    median_filler = df_fit.loc[df_fit.COUNTRY == 1].median()\n",
    "    df.loc[df.COUNTRY == 1] = df.loc[df.COUNTRY == 1].fillna(median_filler)\n",
    "    return df\n",
    "\n",
    "non_exotic_train_df = fill_median_by_country(non_exotic_train_df, non_exotic_train_df)\n",
    "non_exotic_test_X = fill_median_by_country(non_exotic_test_X, non_exotic_train_df)\n",
    "\n",
    "full_train = fill_median_by_country(full_train, full_train)\n",
    "X_test = fill_median_by_country(X_test, full_train)"
   ]
  },
  {
   "cell_type": "code",
   "execution_count": 10,
   "metadata": {},
   "outputs": [],
   "source": [
    "IMPUTE_STAGE = \"median_imputed\"\n",
    "# exotic_train_df.to_csv(f\"{EXOTIC_PATH}/{IMPUTE_STAGE}_train.csv\")\n",
    "# exotic_test_X.to_csv(f\"{EXOTIC_PATH}/{IMPUTE_STAGE}_test.csv\")\n",
    "# non_exotic_train_df.to_csv(f\"{NON_EXOTIC_PATH}/{IMPUTE_STAGE}_train.csv\")\n",
    "# non_exotic_test_X.to_csv(f\"{NON_EXOTIC_PATH}/{IMPUTE_STAGE}_test.csv\")\n",
    "# full_train.to_csv(f\"{FULL_PATH}/{IMPUTE_STAGE}_train.csv\")\n",
    "# X_test.to_csv(f\"{FULL_PATH}/{IMPUTE_STAGE}_test.csv\")"
   ]
  },
  {
   "cell_type": "code",
   "execution_count": 11,
   "metadata": {},
   "outputs": [],
   "source": [
    "non_exotic_train_df_fr = non_exotic_train_df.loc[non_exotic_train_df.COUNTRY == 0]\n",
    "non_exotic_train_df_de = non_exotic_train_df.loc[non_exotic_train_df.COUNTRY == 1]\n",
    "# non_exotic_train_df_fr.to_csv(f\"{NON_EXOTIC_PATH}/{IMPUTE_STAGE}_train_fr.csv\")\n",
    "# non_exotic_train_df_de.to_csv(f\"{NON_EXOTIC_PATH}/{IMPUTE_STAGE}_train_de.csv\")\n",
    "\n",
    "non_exotic_test_X_fr = non_exotic_test_X.loc[non_exotic_test_X.COUNTRY == 0]\n",
    "non_exotic_test_X_de = non_exotic_test_X.loc[non_exotic_test_X.COUNTRY == 1]\n",
    "# non_exotic_test_X_fr.to_csv(f\"{NON_EXOTIC_PATH}/{IMPUTE_STAGE}_test_fr.csv\")\n",
    "# non_exotic_test_X_de.to_csv(f\"{NON_EXOTIC_PATH}/{IMPUTE_STAGE}_test_de.csv\")"
   ]
  },
  {
   "cell_type": "code",
   "execution_count": 12,
   "metadata": {},
   "outputs": [
    {
     "data": {
      "text/plain": [
       "32"
      ]
     },
     "execution_count": 12,
     "metadata": {},
     "output_type": "execute_result"
    }
   ],
   "source": [
    "feature_cols = X_train.columns.drop([\"DAY_ID\", \"COUNTRY\"]).to_list()\n",
    "len(feature_cols)"
   ]
  },
  {
   "cell_type": "code",
   "execution_count": 13,
   "metadata": {},
   "outputs": [],
   "source": [
    "def different_dist(df1: pd.DataFrame, df2: pd.DataFrame, pvalue=0.05):\n",
    "    return [col for col in feature_cols if ks_2samp(df1[col], df2[col]).pvalue < pvalue]"
   ]
  },
  {
   "cell_type": "code",
   "execution_count": 14,
   "metadata": {},
   "outputs": [
    {
     "name": "stdout",
     "output_type": "stream",
     "text": [
      "0\n",
      "25 25 25\n",
      "5.63222408650964e-05\n",
      "0.5002043840391661\n",
      "0.0002135096019779681\n"
     ]
    }
   ],
   "source": [
    "# Non-exotic X's are same dist\n",
    "ks_non_exotic = different_dist(non_exotic_train_df.loc[non_exotic_train_df.COUNTRY == 0], non_exotic_train_df.loc[non_exotic_train_df.COUNTRY == 1])\n",
    "print(len(ks_non_exotic))\n",
    "# Exotic X's are different dist from non-exotic X's\n",
    "ks_exotic = different_dist(non_exotic_train_df, exotic_train_df)\n",
    "ks_fr_exotic = different_dist(non_exotic_train_df.loc[non_exotic_train_df.COUNTRY == 0], exotic_train_df)\n",
    "ks_de_exotic = different_dist(non_exotic_train_df.loc[non_exotic_train_df.COUNTRY == 1], exotic_train_df)\n",
    "print(len(ks_exotic), len(ks_fr_exotic), len(ks_de_exotic))\n",
    "# Non-exotic targets are different distributions by country\n",
    "print(\n",
    "    ks_2samp(\n",
    "        non_exotic_train_df.loc[non_exotic_train_df.COUNTRY == 0, \"TARGET\"], \n",
    "        non_exotic_train_df.loc[non_exotic_train_df.COUNTRY == 1, \"TARGET\"],\n",
    "    ).pvalue\n",
    ")\n",
    "# exotic targets, same distribution as non exotic FR but not DE\n",
    "print(\n",
    "    ks_2samp(\n",
    "        non_exotic_train_df.loc[non_exotic_train_df.COUNTRY == 0, \"TARGET\"], \n",
    "        exotic_train_df[\"TARGET\"],\n",
    "    ).pvalue\n",
    ")\n",
    "print(\n",
    "    ks_2samp(\n",
    "        non_exotic_train_df.loc[non_exotic_train_df.COUNTRY == 1, \"TARGET\"], \n",
    "        exotic_train_df[\"TARGET\"],\n",
    "    ).pvalue\n",
    ")"
   ]
  },
  {
   "cell_type": "code",
   "execution_count": 15,
   "metadata": {},
   "outputs": [
    {
     "data": {
      "text/plain": [
       "(['DE_NET_EXPORT', 'FR_NET_EXPORT', 'DE_NET_IMPORT', 'FR_NET_IMPORT'],\n",
       " ['DE_CONSUMPTION',\n",
       "  'FR_CONSUMPTION',\n",
       "  'DE_FR_EXCHANGE',\n",
       "  'FR_DE_EXCHANGE',\n",
       "  'FR_NET_EXPORT',\n",
       "  'FR_NET_IMPORT',\n",
       "  'FR_NUCLEAR',\n",
       "  'DE_LIGNITE',\n",
       "  'FR_RESIDUAL_LOAD',\n",
       "  'FR_WIND',\n",
       "  'DE_TEMP',\n",
       "  'FR_TEMP'])"
      ]
     },
     "execution_count": 15,
     "metadata": {},
     "output_type": "execute_result"
    }
   ],
   "source": [
    "# common_feature_cols = list(set(feature_cols).difference(ks_exotic))\n",
    "\n",
    "exotic_drift_cols = different_dist(exotic_train_df, exotic_test_X)\n",
    "non_exotic_drift_cols = different_dist(non_exotic_train_df, non_exotic_test_X)\n",
    "exotic_drift_cols, non_exotic_drift_cols"
   ]
  },
  {
   "cell_type": "code",
   "execution_count": 16,
   "metadata": {},
   "outputs": [],
   "source": [
    "class feat_selector():\n",
    "    def __init__(self, corr, target=\"TARGET\"):\n",
    "        self.corr = corr\n",
    "        self.target = target\n",
    "\n",
    "    def multi_colinear_feat(self, thres=0.8):\n",
    "        losers = set()\n",
    "        \n",
    "        tri_mask = np.triu(np.ones(self.corr.shape, dtype=np.bool_))\n",
    "        multi_collin = self.corr[self.corr.mask(tri_mask).abs() > 0.8]\n",
    "        mc_idxs = np.stack(multi_collin.notnull().values.nonzero()).T.tolist()\n",
    "        mc_cols = [[self.corr.columns[i1], self.corr.columns[i2]] for (i1, i2) in mc_idxs]\n",
    "\n",
    "        return [\n",
    "            c2 if abs(self.corr[self.target][c1]) < abs(self.corr[self.target][c2]) else c1 for c1, c2 in mc_cols\n",
    "            ]\n",
    "    \n",
    "    def weak_feat(self, thres=0.05):\n",
    "        weak_flag = self.corr[self.target].abs() < thres\n",
    "        return weak_flag.index[weak_flag].to_list()"
   ]
  },
  {
   "cell_type": "code",
   "execution_count": 17,
   "metadata": {},
   "outputs": [
    {
     "data": {
      "text/plain": [
       "DE_WINDPOW         -0.079221\n",
       "DE_NET_IMPORT       0.052830\n",
       "FR_RAIN            -0.068064\n",
       "FR_HYDRO            0.090760\n",
       "DE_HYDRO            0.111398\n",
       "CARBON_RET          0.185105\n",
       "FR_COAL             0.096489\n",
       "DE_RESIDUAL_LOAD    0.066694\n",
       "FR_WINDPOW         -0.112430\n",
       "GAS_RET             0.151401\n",
       "DE_GAS              0.056043\n",
       "DE_RAIN            -0.063261\n",
       "Name: TARGET, dtype: float64"
      ]
     },
     "execution_count": 17,
     "metadata": {},
     "output_type": "execute_result"
    }
   ],
   "source": [
    "non_exotic_remainder = list(set(feature_cols).difference(non_exotic_drift_cols))\n",
    "\n",
    "tmp_corr = non_exotic_train_df_fr[[\"TARGET\"]+non_exotic_remainder].corr(\"spearman\")\n",
    "non_exotic_fr_fs = feat_selector(tmp_corr)\n",
    "non_exotic_fr_drop_cols = list(set(non_exotic_fr_fs.multi_colinear_feat() + non_exotic_fr_fs.weak_feat()))\n",
    "non_exotic_fr_feature_cols = list(set(non_exotic_remainder).difference(non_exotic_fr_drop_cols))\n",
    "\n",
    "tmp_corr[\"TARGET\"][non_exotic_fr_feature_cols]"
   ]
  },
  {
   "cell_type": "code",
   "execution_count": 18,
   "metadata": {},
   "outputs": [
    {
     "data": {
      "text/plain": [
       "DE_WINDPOW         -0.300933\n",
       "DE_WIND            -0.147871\n",
       "DE_COAL             0.142054\n",
       "DE_NET_IMPORT       0.306204\n",
       "FR_RAIN            -0.075194\n",
       "FR_HYDRO            0.058362\n",
       "DE_HYDRO            0.217900\n",
       "DE_RESIDUAL_LOAD    0.324335\n",
       "FR_WINDPOW         -0.199820\n",
       "DE_GAS              0.253410\n",
       "FR_GAS              0.072784\n",
       "Name: TARGET, dtype: float64"
      ]
     },
     "execution_count": 18,
     "metadata": {},
     "output_type": "execute_result"
    }
   ],
   "source": [
    "tmp_corr = non_exotic_train_df_de[[\"TARGET\"]+non_exotic_remainder].corr(\"spearman\")\n",
    "non_exotic_de_fs = feat_selector(tmp_corr)\n",
    "non_exotic_de_drop_cols = list(set(non_exotic_de_fs.multi_colinear_feat() + non_exotic_de_fs.weak_feat()))\n",
    "non_exotic_de_feature_cols = list(set(non_exotic_remainder).difference(non_exotic_de_drop_cols))\n",
    "\n",
    "tmp_corr[\"TARGET\"][non_exotic_de_feature_cols]"
   ]
  },
  {
   "cell_type": "code",
   "execution_count": 19,
   "metadata": {},
   "outputs": [
    {
     "data": {
      "text/plain": [
       "DE_WINDPOW       -0.090380\n",
       "FR_RAIN           0.113682\n",
       "FR_HYDRO          0.062984\n",
       "DE_FR_EXCHANGE   -0.114560\n",
       "COAL_RET          0.192784\n",
       "DE_NUCLEAR       -0.064955\n",
       "FR_SOLAR          0.081600\n",
       "DE_SOLAR          0.155697\n",
       "CARBON_RET        0.207799\n",
       "DE_LIGNITE        0.064084\n",
       "FR_WINDPOW       -0.157108\n",
       "GAS_RET           0.141679\n",
       "FR_GAS           -0.086897\n",
       "Name: TARGET, dtype: float64"
      ]
     },
     "execution_count": 19,
     "metadata": {},
     "output_type": "execute_result"
    }
   ],
   "source": [
    "exotic_remainder = list(set(feature_cols).difference(exotic_drift_cols))\n",
    "\n",
    "tmp_corr = exotic_train_df[[\"TARGET\"]+exotic_remainder].corr(\"spearman\")\n",
    "exotic_fs = feat_selector(tmp_corr)\n",
    "exotic_drop_cols = list(set(exotic_fs.multi_colinear_feat() + exotic_fs.weak_feat()))\n",
    "exotic_feature_cols = list(set(exotic_remainder).difference(exotic_drop_cols))\n",
    "\n",
    "tmp_corr[\"TARGET\"][exotic_feature_cols]"
   ]
  },
  {
   "cell_type": "code",
   "execution_count": 20,
   "metadata": {},
   "outputs": [],
   "source": [
    "feature_selection = {\n",
    "    \"de\": non_exotic_de_feature_cols,\n",
    "    \"fr\": non_exotic_fr_feature_cols,\n",
    "    \"exotic\": exotic_feature_cols,\n",
    "}"
   ]
  },
  {
   "cell_type": "code",
   "execution_count": 21,
   "metadata": {},
   "outputs": [],
   "source": [
    "# json.dump(feature_selection, open(\"features/feature_selection.json\", \"w\"))"
   ]
  },
  {
   "cell_type": "code",
   "execution_count": null,
   "metadata": {},
   "outputs": [],
   "source": []
  }
 ],
 "metadata": {
  "kernelspec": {
   "display_name": "Python 3.9.12 ('base')",
   "language": "python",
   "name": "python3"
  },
  "language_info": {
   "codemirror_mode": {
    "name": "ipython",
    "version": 3
   },
   "file_extension": ".py",
   "mimetype": "text/x-python",
   "name": "python",
   "nbconvert_exporter": "python",
   "pygments_lexer": "ipython3",
   "version": "3.9.12"
  },
  "orig_nbformat": 4,
  "vscode": {
   "interpreter": {
    "hash": "6b1b51844297d35c968758913ba1b8e9c346e0ddf0da5bc15cfd46ed8ca42702"
   }
  }
 },
 "nbformat": 4,
 "nbformat_minor": 2
}
