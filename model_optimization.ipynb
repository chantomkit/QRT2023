{
 "cells": [
  {
   "cell_type": "code",
   "execution_count": 1,
   "metadata": {},
   "outputs": [],
   "source": [
    "import numpy as np\n",
    "import pandas as pd\n",
    "from scipy.stats import spearmanr, boxcox, pearsonr, ks_2samp\n",
    "import matplotlib.pyplot as plt\n",
    "\n",
    "from sklearn.linear_model import Ridge, HuberRegressor, Lasso, ElasticNet, ElasticNetCV, LogisticRegression\n",
    "\n",
    "import json\n",
    "\n",
    "from base_dataset import Dataset, DataUnit\n",
    "from MetaModel import PredictionAggregator\n",
    "from ModelOptimizer import (\n",
    "    lgbm_optimizer, \n",
    "    xgb_optimizer, \n",
    "    rf_optimizer, \n",
    "    svr_optimizer, \n",
    "    ridge_optimizer, \n",
    "    huber_optimizer,\n",
    "    knn_optimizer,\n",
    "    lasso_optimizer,\n",
    "    elasticnet_optimizer,\n",
    "    model_box\n",
    ")\n",
    "\n",
    "def metric_train(output, truth):\n",
    "    return spearmanr(output, truth).correlation"
   ]
  },
  {
   "cell_type": "code",
   "execution_count": 2,
   "metadata": {},
   "outputs": [],
   "source": [
    "EXOTIC_PATH = \"data/processed/exotic\"\n",
    "NON_EXOTIC_PATH = \"data/processed/non_exotic\"\n",
    "FULL_PATH = \"data/processed/full\"\n",
    "\n",
    "FEATURE_SELECTION_PATH = \"features/feature_selection_lasso.json\"\n",
    "feature_selection = json.load(open(FEATURE_SELECTION_PATH, \"r\"))"
   ]
  },
  {
   "cell_type": "code",
   "execution_count": 3,
   "metadata": {},
   "outputs": [],
   "source": [
    "de_train = pd.read_csv(f\"{NON_EXOTIC_PATH}/median_imputed_train_de.csv\").set_index(\"ID\")\n",
    "fr_train = pd.read_csv(f\"{NON_EXOTIC_PATH}/median_imputed_train_fr.csv\").set_index(\"ID\")\n",
    "exotic_train = pd.read_csv(f\"{EXOTIC_PATH}/median_imputed_train.csv\").set_index(\"ID\")\n",
    "\n",
    "de_test = pd.read_csv(f\"{NON_EXOTIC_PATH}/median_imputed_test_de.csv\").set_index(\"ID\")\n",
    "fr_test = pd.read_csv(f\"{NON_EXOTIC_PATH}/median_imputed_test_fr.csv\").set_index(\"ID\")\n",
    "exotic_test = pd.read_csv(f\"{EXOTIC_PATH}/median_imputed_test.csv\").set_index(\"ID\")\n",
    "\n",
    "full_train = pd.read_csv(f\"{FULL_PATH}/median_imputed_train.csv\").set_index(\"ID\")"
   ]
  },
  {
   "cell_type": "code",
   "execution_count": 4,
   "metadata": {},
   "outputs": [],
   "source": [
    "rank_max = full_train.RANK.max()"
   ]
  },
  {
   "cell_type": "code",
   "execution_count": 5,
   "metadata": {},
   "outputs": [],
   "source": [
    "de_dataset = Dataset(de_train, feature_selection[\"de\"], [\"RANK\"], name=\"de\", valid_ratio=0.2)\n",
    "fr_dataset = Dataset(fr_train, feature_selection[\"fr\"], [\"RANK\"], name=\"fr\", valid_ratio=0.2)\n",
    "exotic_dataset = Dataset(exotic_train, feature_selection[\"exotic\"], [\"RANK\"], name=\"exo\", valid_ratio=0.2)\n",
    "\n",
    "de_testset = Dataset(de_test, feature_selection[\"de\"], None, name=\"de_test\")\n",
    "fr_testset = Dataset(fr_test, feature_selection[\"fr\"], None, name=\"fr_test\")\n",
    "exotic_testset = Dataset(exotic_test, feature_selection[\"exotic\"], None, name=\"exo_test\")"
   ]
  },
  {
   "cell_type": "code",
   "execution_count": 6,
   "metadata": {},
   "outputs": [],
   "source": [
    "def _get_opt(model_name, opt_param_dict):\n",
    "    opt_dict = {\n",
    "        'lgbm': lgbm_optimizer(**opt_param_dict),\n",
    "        'xgb': xgb_optimizer(**opt_param_dict),\n",
    "        'rf': rf_optimizer(**opt_param_dict),\n",
    "        'svr': svr_optimizer(**opt_param_dict),\n",
    "        'ridge': ridge_optimizer(**opt_param_dict),\n",
    "        'huber': huber_optimizer(**opt_param_dict),\n",
    "        'knn': knn_optimizer(**opt_param_dict),\n",
    "        'lasso': lasso_optimizer(**opt_param_dict),\n",
    "        'elasticnet': elasticnet_optimizer(**opt_param_dict), \n",
    "    }\n",
    "    return opt_dict[model_name]\n",
    "\n",
    "def optimize_models(\n",
    "    dataset, \n",
    "    region,\n",
    "    strat='voting_models_remake', \n",
    "    models_list=['lgbm', 'xgb', 'rf', 'svr', 'ridge', 'huber', 'knn', 'lasso', 'elasticnet'], \n",
    "    cv=0, \n",
    "    dump=True\n",
    "):\n",
    "    opt_param_dict = {\n",
    "                'dataset': dataset,\n",
    "                'cv': cv\n",
    "            }\n",
    "    for model_name in models_list:\n",
    "        print(model_name)\n",
    "        opt = _get_opt(model_name=model_name, opt_param_dict=opt_param_dict)\n",
    "        opt.run()\n",
    "        if dump: opt.dump_best_model(f\"{strat}/{model_name}_{region}.json\")"
   ]
  },
  {
   "cell_type": "code",
   "execution_count": 7,
   "metadata": {},
   "outputs": [
    {
     "name": "stderr",
     "output_type": "stream",
     "text": [
      "\u001b[32m[I 2023-09-17 22:03:48,920]\u001b[0m A new study created in memory with name: no-name-6639e479-4700-40b3-8b93-2c1d28756583\u001b[0m\n"
     ]
    },
    {
     "name": "stdout",
     "output_type": "stream",
     "text": [
      "lasso\n"
     ]
    },
    {
     "name": "stderr",
     "output_type": "stream",
     "text": [
      "/Users/chantom/opt/anaconda3/lib/python3.9/site-packages/sklearn/linear_model/_coordinate_descent.py:647: ConvergenceWarning: Objective did not converge. You might want to increase the number of iterations, check the scale of the features or consider increasing regularisation. Duality gap: 1.827e+06, tolerance: 9.156e+03\n",
      "  model = cd_fast.enet_coordinate_descent(\n",
      "/Users/chantom/opt/anaconda3/lib/python3.9/site-packages/sklearn/linear_model/_coordinate_descent.py:647: ConvergenceWarning: Objective did not converge. You might want to increase the number of iterations, check the scale of the features or consider increasing regularisation. Duality gap: 4.100e+06, tolerance: 3.306e+04\n",
      "  model = cd_fast.enet_coordinate_descent(\n",
      "/Users/chantom/opt/anaconda3/lib/python3.9/site-packages/sklearn/linear_model/_coordinate_descent.py:647: ConvergenceWarning: Objective did not converge. You might want to increase the number of iterations, check the scale of the features or consider increasing regularisation. Duality gap: 1.009e+07, tolerance: 3.320e+04\n",
      "  model = cd_fast.enet_coordinate_descent(\n",
      "/Users/chantom/opt/anaconda3/lib/python3.9/site-packages/sklearn/linear_model/_coordinate_descent.py:647: ConvergenceWarning: Objective did not converge. You might want to increase the number of iterations, check the scale of the features or consider increasing regularisation. Duality gap: 8.516e+05, tolerance: 3.376e+04\n",
      "  model = cd_fast.enet_coordinate_descent(\n",
      "/Users/chantom/opt/anaconda3/lib/python3.9/site-packages/sklearn/linear_model/_coordinate_descent.py:647: ConvergenceWarning: Objective did not converge. You might want to increase the number of iterations, check the scale of the features or consider increasing regularisation. Duality gap: 2.302e+05, tolerance: 3.376e+04\n",
      "  model = cd_fast.enet_coordinate_descent(\n",
      "/Users/chantom/opt/anaconda3/lib/python3.9/site-packages/sklearn/linear_model/_coordinate_descent.py:647: ConvergenceWarning: Objective did not converge. You might want to increase the number of iterations, check the scale of the features or consider increasing regularisation. Duality gap: 9.913e+06, tolerance: 3.197e+04\n",
      "  model = cd_fast.enet_coordinate_descent(\n",
      "/Users/chantom/opt/anaconda3/lib/python3.9/site-packages/sklearn/linear_model/_coordinate_descent.py:647: ConvergenceWarning: Objective did not converge. You might want to increase the number of iterations, check the scale of the features or consider increasing regularisation. Duality gap: 6.723e+06, tolerance: 3.306e+04\n",
      "  model = cd_fast.enet_coordinate_descent(\n",
      "/Users/chantom/opt/anaconda3/lib/python3.9/site-packages/sklearn/linear_model/_coordinate_descent.py:647: ConvergenceWarning: Objective did not converge. You might want to increase the number of iterations, check the scale of the features or consider increasing regularisation. Duality gap: 1.460e+07, tolerance: 3.320e+04\n",
      "  model = cd_fast.enet_coordinate_descent(\n",
      "/Users/chantom/opt/anaconda3/lib/python3.9/site-packages/sklearn/linear_model/_coordinate_descent.py:647: ConvergenceWarning: Objective did not converge. You might want to increase the number of iterations, check the scale of the features or consider increasing regularisation. Duality gap: 1.348e+07, tolerance: 3.376e+04\n",
      "  model = cd_fast.enet_coordinate_descent(\n",
      "/Users/chantom/opt/anaconda3/lib/python3.9/site-packages/sklearn/linear_model/_coordinate_descent.py:647: ConvergenceWarning: Objective did not converge. You might want to increase the number of iterations, check the scale of the features or consider increasing regularisation. Duality gap: 8.226e+05, tolerance: 3.376e+04\n",
      "  model = cd_fast.enet_coordinate_descent(\n",
      "/Users/chantom/opt/anaconda3/lib/python3.9/site-packages/sklearn/linear_model/_coordinate_descent.py:647: ConvergenceWarning: Objective did not converge. You might want to increase the number of iterations, check the scale of the features or consider increasing regularisation. Duality gap: 1.063e+07, tolerance: 3.197e+04\n",
      "  model = cd_fast.enet_coordinate_descent(\n",
      "/Users/chantom/opt/anaconda3/lib/python3.9/site-packages/sklearn/linear_model/_coordinate_descent.py:647: ConvergenceWarning: Objective did not converge. You might want to increase the number of iterations, check the scale of the features or consider increasing regularisation. Duality gap: 4.908e+06, tolerance: 3.306e+04\n",
      "  model = cd_fast.enet_coordinate_descent(\n",
      "/Users/chantom/opt/anaconda3/lib/python3.9/site-packages/sklearn/linear_model/_coordinate_descent.py:647: ConvergenceWarning: Objective did not converge. You might want to increase the number of iterations, check the scale of the features or consider increasing regularisation. Duality gap: 7.742e+06, tolerance: 3.320e+04\n",
      "  model = cd_fast.enet_coordinate_descent(\n",
      "/Users/chantom/opt/anaconda3/lib/python3.9/site-packages/sklearn/linear_model/_coordinate_descent.py:647: ConvergenceWarning: Objective did not converge. You might want to increase the number of iterations, check the scale of the features or consider increasing regularisation. Duality gap: 1.576e+06, tolerance: 3.376e+04\n",
      "  model = cd_fast.enet_coordinate_descent(\n",
      "/Users/chantom/opt/anaconda3/lib/python3.9/site-packages/sklearn/linear_model/_coordinate_descent.py:647: ConvergenceWarning: Objective did not converge. You might want to increase the number of iterations, check the scale of the features or consider increasing regularisation. Duality gap: 9.562e+06, tolerance: 3.197e+04\n",
      "  model = cd_fast.enet_coordinate_descent(\n",
      "/Users/chantom/opt/anaconda3/lib/python3.9/site-packages/sklearn/linear_model/_coordinate_descent.py:647: ConvergenceWarning: Objective did not converge. You might want to increase the number of iterations, check the scale of the features or consider increasing regularisation. Duality gap: 7.389e+05, tolerance: 3.320e+04\n",
      "  model = cd_fast.enet_coordinate_descent(\n",
      "/Users/chantom/opt/anaconda3/lib/python3.9/site-packages/sklearn/linear_model/_coordinate_descent.py:647: ConvergenceWarning: Objective did not converge. You might want to increase the number of iterations, check the scale of the features or consider increasing regularisation. Duality gap: 1.000e+05, tolerance: 9.156e+03\n",
      "  model = cd_fast.enet_coordinate_descent(\n"
     ]
    },
    {
     "name": "stdout",
     "output_type": "stream",
     "text": [
      "Best trial among 200 trials:\n",
      "  Value: 0.36432709760454585\n",
      "ridge\n",
      "Best trial among 200 trials:\n",
      "  Value: 0.36128022590072567\n",
      "huber\n",
      "Best trial among 200 trials:\n",
      "  Value: 0.3633788852241109\n",
      "elasticnet\n",
      "Best trial among 200 trials:\n",
      "  Value: 0.3632048578051145\n",
      "lasso\n"
     ]
    },
    {
     "name": "stderr",
     "output_type": "stream",
     "text": [
      "/Users/chantom/opt/anaconda3/lib/python3.9/site-packages/sklearn/linear_model/_coordinate_descent.py:647: ConvergenceWarning: Objective did not converge. You might want to increase the number of iterations, check the scale of the features or consider increasing regularisation. Duality gap: 6.700e+04, tolerance: 2.947e+04\n",
      "  model = cd_fast.enet_coordinate_descent(\n",
      "/Users/chantom/opt/anaconda3/lib/python3.9/site-packages/sklearn/linear_model/_coordinate_descent.py:647: ConvergenceWarning: Objective did not converge. You might want to increase the number of iterations, check the scale of the features or consider increasing regularisation. Duality gap: 3.885e+05, tolerance: 7.188e+03\n",
      "  model = cd_fast.enet_coordinate_descent(\n",
      "/Users/chantom/opt/anaconda3/lib/python3.9/site-packages/sklearn/linear_model/_coordinate_descent.py:647: ConvergenceWarning: Objective did not converge. You might want to increase the number of iterations, check the scale of the features or consider increasing regularisation. Duality gap: 1.493e+07, tolerance: 2.893e+04\n",
      "  model = cd_fast.enet_coordinate_descent(\n",
      "/Users/chantom/opt/anaconda3/lib/python3.9/site-packages/sklearn/linear_model/_coordinate_descent.py:647: ConvergenceWarning: Objective did not converge. You might want to increase the number of iterations, check the scale of the features or consider increasing regularisation. Duality gap: 1.961e+07, tolerance: 2.867e+04\n",
      "  model = cd_fast.enet_coordinate_descent(\n",
      "/Users/chantom/opt/anaconda3/lib/python3.9/site-packages/sklearn/linear_model/_coordinate_descent.py:647: ConvergenceWarning: Objective did not converge. You might want to increase the number of iterations, check the scale of the features or consider increasing regularisation. Duality gap: 1.926e+07, tolerance: 2.844e+04\n",
      "  model = cd_fast.enet_coordinate_descent(\n",
      "/Users/chantom/opt/anaconda3/lib/python3.9/site-packages/sklearn/linear_model/_coordinate_descent.py:647: ConvergenceWarning: Objective did not converge. You might want to increase the number of iterations, check the scale of the features or consider increasing regularisation. Duality gap: 2.095e+07, tolerance: 2.946e+04\n",
      "  model = cd_fast.enet_coordinate_descent(\n",
      "/Users/chantom/opt/anaconda3/lib/python3.9/site-packages/sklearn/linear_model/_coordinate_descent.py:647: ConvergenceWarning: Objective did not converge. You might want to increase the number of iterations, check the scale of the features or consider increasing regularisation. Duality gap: 1.561e+07, tolerance: 2.947e+04\n",
      "  model = cd_fast.enet_coordinate_descent(\n",
      "/Users/chantom/opt/anaconda3/lib/python3.9/site-packages/sklearn/linear_model/_coordinate_descent.py:647: ConvergenceWarning: Objective did not converge. You might want to increase the number of iterations, check the scale of the features or consider increasing regularisation. Duality gap: 1.903e+07, tolerance: 2.893e+04\n",
      "  model = cd_fast.enet_coordinate_descent(\n",
      "/Users/chantom/opt/anaconda3/lib/python3.9/site-packages/sklearn/linear_model/_coordinate_descent.py:647: ConvergenceWarning: Objective did not converge. You might want to increase the number of iterations, check the scale of the features or consider increasing regularisation. Duality gap: 2.386e+07, tolerance: 2.867e+04\n",
      "  model = cd_fast.enet_coordinate_descent(\n",
      "/Users/chantom/opt/anaconda3/lib/python3.9/site-packages/sklearn/linear_model/_coordinate_descent.py:647: ConvergenceWarning: Objective did not converge. You might want to increase the number of iterations, check the scale of the features or consider increasing regularisation. Duality gap: 2.309e+07, tolerance: 2.844e+04\n",
      "  model = cd_fast.enet_coordinate_descent(\n",
      "/Users/chantom/opt/anaconda3/lib/python3.9/site-packages/sklearn/linear_model/_coordinate_descent.py:647: ConvergenceWarning: Objective did not converge. You might want to increase the number of iterations, check the scale of the features or consider increasing regularisation. Duality gap: 2.528e+07, tolerance: 2.946e+04\n",
      "  model = cd_fast.enet_coordinate_descent(\n",
      "/Users/chantom/opt/anaconda3/lib/python3.9/site-packages/sklearn/linear_model/_coordinate_descent.py:647: ConvergenceWarning: Objective did not converge. You might want to increase the number of iterations, check the scale of the features or consider increasing regularisation. Duality gap: 1.979e+07, tolerance: 2.947e+04\n",
      "  model = cd_fast.enet_coordinate_descent(\n",
      "/Users/chantom/opt/anaconda3/lib/python3.9/site-packages/sklearn/linear_model/_coordinate_descent.py:647: ConvergenceWarning: Objective did not converge. You might want to increase the number of iterations, check the scale of the features or consider increasing regularisation. Duality gap: 1.242e+07, tolerance: 2.893e+04\n",
      "  model = cd_fast.enet_coordinate_descent(\n",
      "/Users/chantom/opt/anaconda3/lib/python3.9/site-packages/sklearn/linear_model/_coordinate_descent.py:647: ConvergenceWarning: Objective did not converge. You might want to increase the number of iterations, check the scale of the features or consider increasing regularisation. Duality gap: 7.614e+06, tolerance: 2.867e+04\n",
      "  model = cd_fast.enet_coordinate_descent(\n",
      "/Users/chantom/opt/anaconda3/lib/python3.9/site-packages/sklearn/linear_model/_coordinate_descent.py:647: ConvergenceWarning: Objective did not converge. You might want to increase the number of iterations, check the scale of the features or consider increasing regularisation. Duality gap: 1.669e+07, tolerance: 2.844e+04\n",
      "  model = cd_fast.enet_coordinate_descent(\n",
      "/Users/chantom/opt/anaconda3/lib/python3.9/site-packages/sklearn/linear_model/_coordinate_descent.py:647: ConvergenceWarning: Objective did not converge. You might want to increase the number of iterations, check the scale of the features or consider increasing regularisation. Duality gap: 1.812e+07, tolerance: 2.946e+04\n",
      "  model = cd_fast.enet_coordinate_descent(\n",
      "/Users/chantom/opt/anaconda3/lib/python3.9/site-packages/sklearn/linear_model/_coordinate_descent.py:647: ConvergenceWarning: Objective did not converge. You might want to increase the number of iterations, check the scale of the features or consider increasing regularisation. Duality gap: 1.298e+07, tolerance: 2.947e+04\n",
      "  model = cd_fast.enet_coordinate_descent(\n",
      "/Users/chantom/opt/anaconda3/lib/python3.9/site-packages/sklearn/linear_model/_coordinate_descent.py:647: ConvergenceWarning: Objective did not converge. You might want to increase the number of iterations, check the scale of the features or consider increasing regularisation. Duality gap: 9.397e+05, tolerance: 2.844e+04\n",
      "  model = cd_fast.enet_coordinate_descent(\n",
      "/Users/chantom/opt/anaconda3/lib/python3.9/site-packages/sklearn/linear_model/_coordinate_descent.py:647: ConvergenceWarning: Objective did not converge. You might want to increase the number of iterations, check the scale of the features or consider increasing regularisation. Duality gap: 2.651e+06, tolerance: 2.947e+04\n",
      "  model = cd_fast.enet_coordinate_descent(\n",
      "/Users/chantom/opt/anaconda3/lib/python3.9/site-packages/sklearn/linear_model/_coordinate_descent.py:647: ConvergenceWarning: Objective did not converge. You might want to increase the number of iterations, check the scale of the features or consider increasing regularisation. Duality gap: 5.953e+04, tolerance: 2.947e+04\n",
      "  model = cd_fast.enet_coordinate_descent(\n",
      "/Users/chantom/opt/anaconda3/lib/python3.9/site-packages/sklearn/linear_model/_coordinate_descent.py:647: ConvergenceWarning: Objective did not converge. You might want to increase the number of iterations, check the scale of the features or consider increasing regularisation. Duality gap: 3.483e+04, tolerance: 2.844e+04\n",
      "  model = cd_fast.enet_coordinate_descent(\n",
      "/Users/chantom/opt/anaconda3/lib/python3.9/site-packages/sklearn/linear_model/_coordinate_descent.py:647: ConvergenceWarning: Objective did not converge. You might want to increase the number of iterations, check the scale of the features or consider increasing regularisation. Duality gap: 6.038e+05, tolerance: 2.947e+04\n",
      "  model = cd_fast.enet_coordinate_descent(\n",
      "/Users/chantom/opt/anaconda3/lib/python3.9/site-packages/sklearn/linear_model/_coordinate_descent.py:647: ConvergenceWarning: Objective did not converge. You might want to increase the number of iterations, check the scale of the features or consider increasing regularisation. Duality gap: 4.861e+05, tolerance: 7.188e+03\n",
      "  model = cd_fast.enet_coordinate_descent(\n"
     ]
    },
    {
     "name": "stdout",
     "output_type": "stream",
     "text": [
      "Best trial among 200 trials:\n",
      "  Value: 0.11965875232994194\n",
      "ridge\n",
      "Best trial among 200 trials:\n",
      "  Value: 0.10201482845572965\n",
      "huber\n",
      "Best trial among 200 trials:\n",
      "  Value: 0.15858261885872812\n",
      "elasticnet\n",
      "Best trial among 200 trials:\n",
      "  Value: 0.15957210874999814\n",
      "lasso\n"
     ]
    },
    {
     "name": "stderr",
     "output_type": "stream",
     "text": [
      "/Users/chantom/opt/anaconda3/lib/python3.9/site-packages/sklearn/linear_model/_coordinate_descent.py:647: ConvergenceWarning: Objective did not converge. You might want to increase the number of iterations, check the scale of the features or consider increasing regularisation. Duality gap: 3.843e+04, tolerance: 8.984e+03\n",
      "  model = cd_fast.enet_coordinate_descent(\n",
      "/Users/chantom/opt/anaconda3/lib/python3.9/site-packages/sklearn/linear_model/_coordinate_descent.py:647: ConvergenceWarning: Objective did not converge. You might want to increase the number of iterations, check the scale of the features or consider increasing regularisation. Duality gap: 8.809e+04, tolerance: 1.892e+03\n",
      "  model = cd_fast.enet_coordinate_descent(\n",
      "/Users/chantom/opt/anaconda3/lib/python3.9/site-packages/sklearn/linear_model/_coordinate_descent.py:647: ConvergenceWarning: Objective did not converge. You might want to increase the number of iterations, check the scale of the features or consider increasing regularisation. Duality gap: 2.070e+06, tolerance: 8.984e+03\n",
      "  model = cd_fast.enet_coordinate_descent(\n",
      "/Users/chantom/opt/anaconda3/lib/python3.9/site-packages/sklearn/linear_model/_coordinate_descent.py:647: ConvergenceWarning: Objective did not converge. You might want to increase the number of iterations, check the scale of the features or consider increasing regularisation. Duality gap: 2.941e+06, tolerance: 8.420e+03\n",
      "  model = cd_fast.enet_coordinate_descent(\n",
      "/Users/chantom/opt/anaconda3/lib/python3.9/site-packages/sklearn/linear_model/_coordinate_descent.py:647: ConvergenceWarning: Objective did not converge. You might want to increase the number of iterations, check the scale of the features or consider increasing regularisation. Duality gap: 3.132e+06, tolerance: 8.491e+03\n",
      "  model = cd_fast.enet_coordinate_descent(\n",
      "/Users/chantom/opt/anaconda3/lib/python3.9/site-packages/sklearn/linear_model/_coordinate_descent.py:647: ConvergenceWarning: Objective did not converge. You might want to increase the number of iterations, check the scale of the features or consider increasing regularisation. Duality gap: 2.088e+06, tolerance: 8.737e+03\n",
      "  model = cd_fast.enet_coordinate_descent(\n",
      "/Users/chantom/opt/anaconda3/lib/python3.9/site-packages/sklearn/linear_model/_coordinate_descent.py:647: ConvergenceWarning: Objective did not converge. You might want to increase the number of iterations, check the scale of the features or consider increasing regularisation. Duality gap: 3.055e+06, tolerance: 9.219e+03\n",
      "  model = cd_fast.enet_coordinate_descent(\n",
      "/Users/chantom/opt/anaconda3/lib/python3.9/site-packages/sklearn/linear_model/_coordinate_descent.py:647: ConvergenceWarning: Objective did not converge. You might want to increase the number of iterations, check the scale of the features or consider increasing regularisation. Duality gap: 2.826e+06, tolerance: 8.984e+03\n",
      "  model = cd_fast.enet_coordinate_descent(\n",
      "/Users/chantom/opt/anaconda3/lib/python3.9/site-packages/sklearn/linear_model/_coordinate_descent.py:647: ConvergenceWarning: Objective did not converge. You might want to increase the number of iterations, check the scale of the features or consider increasing regularisation. Duality gap: 3.995e+06, tolerance: 8.420e+03\n",
      "  model = cd_fast.enet_coordinate_descent(\n",
      "/Users/chantom/opt/anaconda3/lib/python3.9/site-packages/sklearn/linear_model/_coordinate_descent.py:647: ConvergenceWarning: Objective did not converge. You might want to increase the number of iterations, check the scale of the features or consider increasing regularisation. Duality gap: 4.149e+06, tolerance: 8.491e+03\n",
      "  model = cd_fast.enet_coordinate_descent(\n",
      "/Users/chantom/opt/anaconda3/lib/python3.9/site-packages/sklearn/linear_model/_coordinate_descent.py:647: ConvergenceWarning: Objective did not converge. You might want to increase the number of iterations, check the scale of the features or consider increasing regularisation. Duality gap: 2.556e+06, tolerance: 8.737e+03\n",
      "  model = cd_fast.enet_coordinate_descent(\n",
      "/Users/chantom/opt/anaconda3/lib/python3.9/site-packages/sklearn/linear_model/_coordinate_descent.py:647: ConvergenceWarning: Objective did not converge. You might want to increase the number of iterations, check the scale of the features or consider increasing regularisation. Duality gap: 3.803e+06, tolerance: 9.219e+03\n",
      "  model = cd_fast.enet_coordinate_descent(\n",
      "/Users/chantom/opt/anaconda3/lib/python3.9/site-packages/sklearn/linear_model/_coordinate_descent.py:647: ConvergenceWarning: Objective did not converge. You might want to increase the number of iterations, check the scale of the features or consider increasing regularisation. Duality gap: 1.798e+06, tolerance: 8.984e+03\n",
      "  model = cd_fast.enet_coordinate_descent(\n",
      "/Users/chantom/opt/anaconda3/lib/python3.9/site-packages/sklearn/linear_model/_coordinate_descent.py:647: ConvergenceWarning: Objective did not converge. You might want to increase the number of iterations, check the scale of the features or consider increasing regularisation. Duality gap: 2.584e+06, tolerance: 8.420e+03\n",
      "  model = cd_fast.enet_coordinate_descent(\n",
      "/Users/chantom/opt/anaconda3/lib/python3.9/site-packages/sklearn/linear_model/_coordinate_descent.py:647: ConvergenceWarning: Objective did not converge. You might want to increase the number of iterations, check the scale of the features or consider increasing regularisation. Duality gap: 2.606e+06, tolerance: 8.491e+03\n",
      "  model = cd_fast.enet_coordinate_descent(\n",
      "/Users/chantom/opt/anaconda3/lib/python3.9/site-packages/sklearn/linear_model/_coordinate_descent.py:647: ConvergenceWarning: Objective did not converge. You might want to increase the number of iterations, check the scale of the features or consider increasing regularisation. Duality gap: 1.842e+06, tolerance: 8.737e+03\n",
      "  model = cd_fast.enet_coordinate_descent(\n",
      "/Users/chantom/opt/anaconda3/lib/python3.9/site-packages/sklearn/linear_model/_coordinate_descent.py:647: ConvergenceWarning: Objective did not converge. You might want to increase the number of iterations, check the scale of the features or consider increasing regularisation. Duality gap: 2.642e+06, tolerance: 9.219e+03\n",
      "  model = cd_fast.enet_coordinate_descent(\n",
      "/Users/chantom/opt/anaconda3/lib/python3.9/site-packages/sklearn/linear_model/_coordinate_descent.py:647: ConvergenceWarning: Objective did not converge. You might want to increase the number of iterations, check the scale of the features or consider increasing regularisation. Duality gap: 1.034e+06, tolerance: 8.984e+03\n",
      "  model = cd_fast.enet_coordinate_descent(\n",
      "/Users/chantom/opt/anaconda3/lib/python3.9/site-packages/sklearn/linear_model/_coordinate_descent.py:647: ConvergenceWarning: Objective did not converge. You might want to increase the number of iterations, check the scale of the features or consider increasing regularisation. Duality gap: 5.671e+04, tolerance: 8.420e+03\n",
      "  model = cd_fast.enet_coordinate_descent(\n",
      "/Users/chantom/opt/anaconda3/lib/python3.9/site-packages/sklearn/linear_model/_coordinate_descent.py:647: ConvergenceWarning: Objective did not converge. You might want to increase the number of iterations, check the scale of the features or consider increasing regularisation. Duality gap: 1.068e+06, tolerance: 8.491e+03\n",
      "  model = cd_fast.enet_coordinate_descent(\n",
      "/Users/chantom/opt/anaconda3/lib/python3.9/site-packages/sklearn/linear_model/_coordinate_descent.py:647: ConvergenceWarning: Objective did not converge. You might want to increase the number of iterations, check the scale of the features or consider increasing regularisation. Duality gap: 5.792e+05, tolerance: 8.737e+03\n",
      "  model = cd_fast.enet_coordinate_descent(\n",
      "/Users/chantom/opt/anaconda3/lib/python3.9/site-packages/sklearn/linear_model/_coordinate_descent.py:647: ConvergenceWarning: Objective did not converge. You might want to increase the number of iterations, check the scale of the features or consider increasing regularisation. Duality gap: 1.022e+06, tolerance: 9.219e+03\n",
      "  model = cd_fast.enet_coordinate_descent(\n",
      "/Users/chantom/opt/anaconda3/lib/python3.9/site-packages/sklearn/linear_model/_coordinate_descent.py:647: ConvergenceWarning: Objective did not converge. You might want to increase the number of iterations, check the scale of the features or consider increasing regularisation. Duality gap: 3.909e+04, tolerance: 8.984e+03\n",
      "  model = cd_fast.enet_coordinate_descent(\n",
      "/Users/chantom/opt/anaconda3/lib/python3.9/site-packages/sklearn/linear_model/_coordinate_descent.py:647: ConvergenceWarning: Objective did not converge. You might want to increase the number of iterations, check the scale of the features or consider increasing regularisation. Duality gap: 4.146e+05, tolerance: 8.737e+03\n",
      "  model = cd_fast.enet_coordinate_descent(\n"
     ]
    },
    {
     "name": "stdout",
     "output_type": "stream",
     "text": [
      "Best trial among 200 trials:\n",
      "  Value: 0.14613827349121467\n",
      "ridge\n",
      "Best trial among 200 trials:\n",
      "  Value: 0.1270053475935829\n",
      "huber\n",
      "Best trial among 200 trials:\n",
      "  Value: 0.2036783804430863\n",
      "elasticnet\n",
      "Best trial among 200 trials:\n",
      "  Value: 0.2032467532467533\n"
     ]
    }
   ],
   "source": [
    "for ds in [\n",
    "    de_dataset, \n",
    "    fr_dataset, \n",
    "    exotic_dataset,\n",
    "    ]:\n",
    "    optimize_models(\n",
    "        ds, \n",
    "        region=ds.name, \n",
    "        cv=5, \n",
    "        models_list=[\"lasso\", \"ridge\", \"huber\", \"elasticnet\"],\n",
    "        strat=\"lasso_selected_features_linear_models\")"
   ]
  },
  {
   "cell_type": "code",
   "execution_count": 8,
   "metadata": {},
   "outputs": [
    {
     "data": {
      "text/plain": [
       "{'lasso': {'exo': 0.14613827349121467,\n",
       "  'fr': 0.11965875232994194,\n",
       "  'de': 0.36432709760454585},\n",
       " 'ridge': {'exo': 0.1270053475935829,\n",
       "  'fr': 0.10201482845572965,\n",
       "  'de': 0.36128022590072567},\n",
       " 'elasticnet': {'exo': 0.2032467532467533,\n",
       "  'fr': 0.15957210874999814,\n",
       "  'de': 0.3632048578051145},\n",
       " 'huber': {'exo': 0.2036783804430863,\n",
       "  'fr': 0.15858261885872812,\n",
       "  'de': 0.3633788852241109}}"
      ]
     },
     "execution_count": 8,
     "metadata": {},
     "output_type": "execute_result"
    }
   ],
   "source": [
    "IGNORE_MODEL_LIST = ['svr', 'knn', 'xgb', 'lgbm', 'rf']\n",
    "mbox = model_box(\n",
    "    'lasso_selected_features_linear_models', \n",
    "    # ignore_models=IGNORE_MODEL_LIST,\n",
    ")\n",
    "model_candidates, model_scores = mbox.to_dicts()\n",
    "model_scores"
   ]
  },
  {
   "cell_type": "code",
   "execution_count": 9,
   "metadata": {},
   "outputs": [],
   "source": [
    "def visualise_preds(pred_ys, true_y):\n",
    "    fig, axs = plt.subplots(3, 3, figsize=(12, 12))\n",
    "    for i, col in enumerate(pred_ys.columns):\n",
    "        axs[i//3][i%3].scatter(pred_ys[col].rank(), true_y.rank(), label=col)\n",
    "        axs[i//3][i%3].set_title(col)\n",
    "    fig.tight_layout()\n",
    "    plt.show()"
   ]
  },
  {
   "cell_type": "code",
   "execution_count": 10,
   "metadata": {},
   "outputs": [
    {
     "data": {
      "text/plain": [
       "lasso         0.397205\n",
       "ridge         0.416956\n",
       "elasticnet    0.359766\n",
       "huber         0.360605\n",
       "dtype: float64"
      ]
     },
     "execution_count": 10,
     "metadata": {},
     "output_type": "execute_result"
    }
   ],
   "source": [
    "de_pa = PredictionAggregator(model_candidates, 'de')\n",
    "de_pred = de_pa.fit_predict(de_dataset.dtrain, de_dataset.dvalid.X)\n",
    "de_pred.apply(lambda x: metric_train(x, de_dataset.dvalid.y))"
   ]
  },
  {
   "cell_type": "code",
   "execution_count": 11,
   "metadata": {},
   "outputs": [
    {
     "data": {
      "text/plain": [
       "lasso         0.153025\n",
       "ridge         0.159713\n",
       "elasticnet    0.102871\n",
       "huber         0.114194\n",
       "dtype: float64"
      ]
     },
     "execution_count": 11,
     "metadata": {},
     "output_type": "execute_result"
    }
   ],
   "source": [
    "fr_pa = PredictionAggregator(model_candidates, 'fr')\n",
    "fr_pred = fr_pa.fit_predict(fr_dataset.dtrain, fr_dataset.dvalid.X)\n",
    "fr_pred.apply(lambda x: metric_train(x, fr_dataset.dvalid.y))"
   ]
  },
  {
   "cell_type": "code",
   "execution_count": 13,
   "metadata": {},
   "outputs": [
    {
     "data": {
      "text/plain": [
       "lasso         0.290171\n",
       "ridge         0.272668\n",
       "elasticnet    0.289523\n",
       "huber         0.289361\n",
       "dtype: float64"
      ]
     },
     "execution_count": 13,
     "metadata": {},
     "output_type": "execute_result"
    }
   ],
   "source": [
    "exotic_pa = PredictionAggregator(model_candidates, 'exo')\n",
    "exotic_pred = exotic_pa.fit_predict(exotic_dataset.dtrain, exotic_dataset.dvalid.X)\n",
    "exotic_pred.apply(lambda x: metric_train(x, exotic_dataset.dvalid.y))"
   ]
  },
  {
   "cell_type": "code",
   "execution_count": 14,
   "metadata": {},
   "outputs": [],
   "source": [
    "# feature_selection_lasso = {}\n",
    "# feature_selection_lasso[\"de\"] = de_dataset.dtrain.X.columns[de_pa.fitted_models[\"lasso\"].coef_ > 0.1].to_list()\n",
    "# feature_selection_lasso[\"fr\"] = fr_dataset.dtrain.X.columns[fr_pa.fitted_models[\"lasso\"].coef_ > 0.1]\n",
    "# feature_selection_lasso[\"exotic\"] = exotic_dataset.dtrain.X.columns[exotic_pa.fitted_models[\"lasso\"].coef_ > 0.1]\n",
    "# json.dump(feature_selection, open(\"features/feature_selection_lasso.json\", \"w\"))"
   ]
  },
  {
   "cell_type": "code",
   "execution_count": 25,
   "metadata": {},
   "outputs": [],
   "source": [
    "full_test_pred = pd.concat(\n",
    "    [\n",
    "        de_pa.fit_predict(de_dataset.dfull, de_testset.dfull.X),\n",
    "        fr_pa.fit_predict(fr_dataset.dfull, fr_testset.dfull.X),\n",
    "        exotic_pa.fit_predict(exotic_dataset.dfull, exotic_testset.dfull.X)\n",
    "    ], axis=0)"
   ]
  },
  {
   "cell_type": "code",
   "execution_count": 26,
   "metadata": {},
   "outputs": [],
   "source": [
    "full_test_pred = full_test_pred[[\"lasso\", \"ridge\"]]"
   ]
  },
  {
   "cell_type": "code",
   "execution_count": 27,
   "metadata": {},
   "outputs": [
    {
     "data": {
      "text/html": [
       "<div>\n",
       "<style scoped>\n",
       "    .dataframe tbody tr th:only-of-type {\n",
       "        vertical-align: middle;\n",
       "    }\n",
       "\n",
       "    .dataframe tbody tr th {\n",
       "        vertical-align: top;\n",
       "    }\n",
       "\n",
       "    .dataframe thead th {\n",
       "        text-align: right;\n",
       "    }\n",
       "</style>\n",
       "<table border=\"1\" class=\"dataframe\">\n",
       "  <thead>\n",
       "    <tr style=\"text-align: right;\">\n",
       "      <th></th>\n",
       "      <th>TARGET</th>\n",
       "    </tr>\n",
       "    <tr>\n",
       "      <th>ID</th>\n",
       "      <th></th>\n",
       "    </tr>\n",
       "  </thead>\n",
       "  <tbody>\n",
       "    <tr>\n",
       "      <th>1115</th>\n",
       "      <td>705.202952</td>\n",
       "    </tr>\n",
       "    <tr>\n",
       "      <th>1202</th>\n",
       "      <td>791.662606</td>\n",
       "    </tr>\n",
       "    <tr>\n",
       "      <th>1194</th>\n",
       "      <td>537.828722</td>\n",
       "    </tr>\n",
       "    <tr>\n",
       "      <th>1084</th>\n",
       "      <td>807.251257</td>\n",
       "    </tr>\n",
       "    <tr>\n",
       "      <th>1135</th>\n",
       "      <td>566.704834</td>\n",
       "    </tr>\n",
       "    <tr>\n",
       "      <th>...</th>\n",
       "      <td>...</td>\n",
       "    </tr>\n",
       "    <tr>\n",
       "      <th>879</th>\n",
       "      <td>445.020198</td>\n",
       "    </tr>\n",
       "    <tr>\n",
       "      <th>673</th>\n",
       "      <td>717.141736</td>\n",
       "    </tr>\n",
       "    <tr>\n",
       "      <th>1641</th>\n",
       "      <td>943.063301</td>\n",
       "    </tr>\n",
       "    <tr>\n",
       "      <th>712</th>\n",
       "      <td>1192.457289</td>\n",
       "    </tr>\n",
       "    <tr>\n",
       "      <th>1060</th>\n",
       "      <td>831.966295</td>\n",
       "    </tr>\n",
       "  </tbody>\n",
       "</table>\n",
       "<p>654 rows × 1 columns</p>\n",
       "</div>"
      ],
      "text/plain": [
       "           TARGET\n",
       "ID               \n",
       "1115   705.202952\n",
       "1202   791.662606\n",
       "1194   537.828722\n",
       "1084   807.251257\n",
       "1135   566.704834\n",
       "...           ...\n",
       "879    445.020198\n",
       "673    717.141736\n",
       "1641   943.063301\n",
       "712   1192.457289\n",
       "1060   831.966295\n",
       "\n",
       "[654 rows x 1 columns]"
      ]
     },
     "execution_count": 27,
     "metadata": {},
     "output_type": "execute_result"
    }
   ],
   "source": [
    "sub_dummy = pd.read_csv(\"y_test_random_final.csv\", index_col=\"ID\", usecols=[\"ID\"])\n",
    "\n",
    "test_pred = full_test_pred.mean(axis=1).rename(\"TARGET\")\n",
    "test_pred = sub_dummy.join(test_pred)\n",
    "test_pred.to_csv(\"sub27_lasso_ridge.csv\")\n",
    "\n",
    "test_pred"
   ]
  },
  {
   "cell_type": "code",
   "execution_count": 28,
   "metadata": {},
   "outputs": [
    {
     "data": {
      "text/plain": [
       "0.8560363493353361"
      ]
     },
     "execution_count": 28,
     "metadata": {},
     "output_type": "execute_result"
    }
   ],
   "source": [
    "ref_sub = pd.read_csv(\"sub24_ElasticNet.csv\")\n",
    "metric_train(ref_sub[\"TARGET\"], test_pred[\"TARGET\"])"
   ]
  },
  {
   "cell_type": "code",
   "execution_count": null,
   "metadata": {},
   "outputs": [],
   "source": []
  }
 ],
 "metadata": {
  "kernelspec": {
   "display_name": "Python 3.9.12 ('base')",
   "language": "python",
   "name": "python3"
  },
  "language_info": {
   "codemirror_mode": {
    "name": "ipython",
    "version": 3
   },
   "file_extension": ".py",
   "mimetype": "text/x-python",
   "name": "python",
   "nbconvert_exporter": "python",
   "pygments_lexer": "ipython3",
   "version": "3.9.12"
  },
  "orig_nbformat": 4,
  "vscode": {
   "interpreter": {
    "hash": "6b1b51844297d35c968758913ba1b8e9c346e0ddf0da5bc15cfd46ed8ca42702"
   }
  }
 },
 "nbformat": 4,
 "nbformat_minor": 2
}
